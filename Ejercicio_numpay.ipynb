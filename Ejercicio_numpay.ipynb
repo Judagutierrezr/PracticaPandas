{
  "nbformat": 4,
  "nbformat_minor": 0,
  "metadata": {
    "colab": {
      "provenance": []
    },
    "kernelspec": {
      "name": "python3",
      "display_name": "Python 3"
    },
    "language_info": {
      "name": "python"
    }
  },
  "cells": [
    {
      "cell_type": "code",
      "execution_count": null,
      "metadata": {
        "id": "fCeWRTdf6K_m"
      },
      "outputs": [],
      "source": []
    },
    {
      "cell_type": "markdown",
      "source": [
        "# Ejercicio de edades e ingresos"
      ],
      "metadata": {
        "id": "BjbwxzvF6VGY"
      }
    },
    {
      "cell_type": "code",
      "source": [
        "import numpy as np"
      ],
      "metadata": {
        "id": "XliGA8yc6q25"
      },
      "execution_count": null,
      "outputs": []
    },
    {
      "cell_type": "markdown",
      "source": [
        "Matriz 3x3 de edades entre 20 y 50"
      ],
      "metadata": {
        "id": "YUMEktTL61I2"
      }
    },
    {
      "cell_type": "code",
      "source": [
        "edades = np.random.uniform(\n",
        "    low=20,\n",
        "    high=50,\n",
        "    size=(3,3)\n",
        ")\n",
        "edades=np.round(edades,decimals = 0)\n",
        "edades"
      ],
      "metadata": {
        "colab": {
          "base_uri": "https://localhost:8080/"
        },
        "id": "EpmbvEyt7fyl",
        "outputId": "971e80b6-2ad5-4ca8-cee7-d9b00fa63897"
      },
      "execution_count": null,
      "outputs": [
        {
          "output_type": "execute_result",
          "data": {
            "text/plain": [
              "array([[22., 27., 26.],\n",
              "       [49., 28., 32.],\n",
              "       [48., 33., 23.]])"
            ]
          },
          "metadata": {},
          "execution_count": 21
        }
      ]
    },
    {
      "cell_type": "code",
      "source": [
        "ingresos = np.random.uniform(\n",
        "    low=2000,\n",
        "    high=5000,\n",
        "    size=(3,3)\n",
        ")\n",
        "ingresos = np.round(ingresos,decimals = 0)\n",
        "ingresos"
      ],
      "metadata": {
        "colab": {
          "base_uri": "https://localhost:8080/"
        },
        "id": "oj3wRvV560Lm",
        "outputId": "626680b4-3611-4541-a76c-1d7a4e564e9b"
      },
      "execution_count": null,
      "outputs": [
        {
          "output_type": "execute_result",
          "data": {
            "text/plain": [
              "array([[3152., 4156., 3631.],\n",
              "       [4991., 2444., 2355.],\n",
              "       [3176., 4202., 2777.]])"
            ]
          },
          "metadata": {},
          "execution_count": 22
        }
      ]
    },
    {
      "cell_type": "code",
      "source": [
        "a=np.array(edades)\n",
        "a=a.reshape(9,1)\n",
        "\n"
      ],
      "metadata": {
        "id": "-NRqxlEG-ISi"
      },
      "execution_count": null,
      "outputs": []
    },
    {
      "cell_type": "code",
      "source": [
        "b=np.array(ingresos)\n",
        "b=b.reshape(9,1)"
      ],
      "metadata": {
        "id": "zK2HHL7BBDwc"
      },
      "execution_count": null,
      "outputs": []
    },
    {
      "cell_type": "code",
      "source": [
        "ab = np.column_stack((a,b))\n",
        "ab"
      ],
      "metadata": {
        "colab": {
          "base_uri": "https://localhost:8080/"
        },
        "id": "9S6e9Ls5BC69",
        "outputId": "c1d2d9ad-cc63-438b-cd1c-becac906534e"
      },
      "execution_count": null,
      "outputs": [
        {
          "output_type": "execute_result",
          "data": {
            "text/plain": [
              "array([[  22., 3152.],\n",
              "       [  27., 4156.],\n",
              "       [  26., 3631.],\n",
              "       [  49., 4991.],\n",
              "       [  28., 2444.],\n",
              "       [  32., 2355.],\n",
              "       [  48., 3176.],\n",
              "       [  33., 4202.],\n",
              "       [  23., 2777.]])"
            ]
          },
          "metadata": {},
          "execution_count": 48
        }
      ]
    },
    {
      "cell_type": "code",
      "source": [
        "edad = ab <= 30\n",
        "edad"
      ],
      "metadata": {
        "colab": {
          "base_uri": "https://localhost:8080/"
        },
        "id": "NAhMYzUdHY9y",
        "outputId": "96abbcda-641a-4943-e343-2026d4472f63"
      },
      "execution_count": null,
      "outputs": [
        {
          "output_type": "execute_result",
          "data": {
            "text/plain": [
              "array([[ True, False],\n",
              "       [ True, False],\n",
              "       [ True, False],\n",
              "       [False, False],\n",
              "       [ True, False],\n",
              "       [False, False],\n",
              "       [False, False],\n",
              "       [False, False],\n",
              "       [ True, False]])"
            ]
          },
          "metadata": {},
          "execution_count": 65
        }
      ]
    },
    {
      "cell_type": "code",
      "source": [
        "salario1 = ab >= 2000\n",
        "salario1"
      ],
      "metadata": {
        "colab": {
          "base_uri": "https://localhost:8080/"
        },
        "id": "YVpFFcmGHsTp",
        "outputId": "cc2a5b5b-36c9-4693-c7e1-36a7153394a5"
      },
      "execution_count": null,
      "outputs": [
        {
          "output_type": "execute_result",
          "data": {
            "text/plain": [
              "array([[False,  True],\n",
              "       [False,  True],\n",
              "       [False,  True],\n",
              "       [False,  True],\n",
              "       [False,  True],\n",
              "       [False,  True],\n",
              "       [False,  True],\n",
              "       [False,  True],\n",
              "       [False,  True]])"
            ]
          },
          "metadata": {},
          "execution_count": 64
        }
      ]
    },
    {
      "cell_type": "code",
      "source": [
        "combina = np.logical_or(edad,salario1)\n",
        "combina"
      ],
      "metadata": {
        "colab": {
          "base_uri": "https://localhost:8080/"
        },
        "id": "AAK2nTKSIToo",
        "outputId": "3b1a9020-1abd-4b95-a406-1d12e9e88e3f"
      },
      "execution_count": null,
      "outputs": [
        {
          "output_type": "execute_result",
          "data": {
            "text/plain": [
              "array([[ True,  True],\n",
              "       [ True,  True],\n",
              "       [ True,  True],\n",
              "       [False,  True],\n",
              "       [ True,  True],\n",
              "       [False,  True],\n",
              "       [False,  True],\n",
              "       [False,  True],\n",
              "       [ True,  True]])"
            ]
          },
          "metadata": {},
          "execution_count": 68
        }
      ]
    },
    {
      "cell_type": "code",
      "source": [
        "combina1 = np.logical_and (combina,edad)\n",
        "combina1"
      ],
      "metadata": {
        "colab": {
          "base_uri": "https://localhost:8080/"
        },
        "id": "_jm3fBfXKEEG",
        "outputId": "b2eb54d1-2f80-4a18-8d13-cf1d75b2ad39"
      },
      "execution_count": null,
      "outputs": [
        {
          "output_type": "execute_result",
          "data": {
            "text/plain": [
              "array([[ True, False],\n",
              "       [ True, False],\n",
              "       [ True, False],\n",
              "       [False, False],\n",
              "       [ True, False],\n",
              "       [False, False],\n",
              "       [False, False],\n",
              "       [False, False],\n",
              "       [ True, False]])"
            ]
          },
          "metadata": {},
          "execution_count": 75
        }
      ]
    },
    {
      "cell_type": "code",
      "source": [
        "ab[combina]"
      ],
      "metadata": {
        "colab": {
          "base_uri": "https://localhost:8080/"
        },
        "id": "gXv1zzvKJSig",
        "outputId": "033fc688-aef3-49ef-ce41-6ca86c2a2003"
      },
      "execution_count": null,
      "outputs": [
        {
          "output_type": "execute_result",
          "data": {
            "text/plain": [
              "array([  22., 3152.,   27., 4156.,   26., 3631., 4991.,   28., 2444.,\n",
              "       2355., 3176., 4202.,   23., 2777.])"
            ]
          },
          "metadata": {},
          "execution_count": 78
        }
      ]
    }
  ]
}